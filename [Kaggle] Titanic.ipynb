{
 "cells": [
  {
   "cell_type": "code",
   "execution_count": null,
   "metadata": {},
   "outputs": [],
   "source": [
    "import pandas as pd\n",
    "import numpy as np\n",
    "import re\n",
    "from sklearn import preprocessing\n",
    "from sklearn.tree import DecisionTreeClassifier\n",
    "from sklearn.linear_model import LinearRegression\n",
    "from sklearn.model_selection import train_test_split\n",
    "from sklearn.metrics import accuracy_score\n",
    "\n",
    "import matplotlib.pyplot as plt\n",
    "%matplotlib inline"
   ]
  },
  {
   "cell_type": "code",
   "execution_count": 1,
   "metadata": {},
   "outputs": [
    {
     "ename": "NameError",
     "evalue": "name 'pd' is not defined",
     "output_type": "error",
     "traceback": [
      "\u001b[1;31m---------------------------------------------------------------------------\u001b[0m",
      "\u001b[1;31mNameError\u001b[0m                                 Traceback (most recent call last)",
      "\u001b[1;32m<ipython-input-1-9cb9a13572a6>\u001b[0m in \u001b[0;36m<module>\u001b[1;34m\u001b[0m\n\u001b[1;32m----> 1\u001b[1;33m \u001b[0mtrain\u001b[0m \u001b[1;33m=\u001b[0m \u001b[0mpd\u001b[0m\u001b[1;33m.\u001b[0m\u001b[0mread_csv\u001b[0m\u001b[1;33m(\u001b[0m\u001b[1;34mr'C:\\Users\\sharon.pan\\Desktop\\python\\Project -\\Titanic\\train.csv'\u001b[0m\u001b[1;33m)\u001b[0m\u001b[1;33m\u001b[0m\u001b[1;33m\u001b[0m\u001b[0m\n\u001b[0m",
      "\u001b[1;31mNameError\u001b[0m: name 'pd' is not defined"
     ]
    }
   ],
   "source": [
    "train = pd.read_csv(r'C:\\Users\\sharon.pan\\Desktop\\python\\Project -\\Titanic\\train.csv')"
   ]
  },
  {
   "cell_type": "code",
   "execution_count": null,
   "metadata": {},
   "outputs": [],
   "source": [
    "test = pd.read_csv(r'C:\\Users\\sharon.pan\\Desktop\\python\\Project -\\Titanic\\test.csv')"
   ]
  },
  {
   "cell_type": "code",
   "execution_count": null,
   "metadata": {},
   "outputs": [],
   "source": [
    "train.isnull().sum()\n",
    "\n",
    "# preprocessing lable\n",
    "le = preprocessing.LabelEncoder()"
   ]
  },
  {
   "cell_type": "code",
   "execution_count": null,
   "metadata": {},
   "outputs": [],
   "source": [
    "#Training Set\n",
    "\n",
    "# handling Sex\n",
    "train['Sex'] = le.fit_transform(train['Sex'])\n",
    "\n",
    "# handling Embarked\n",
    "train['Embarked'].fillna('S',inplace=True)\n",
    "train['Embarked'] = le.fit_transform(train['Embarked'])\n",
    "\n",
    "# handling Name with Title\n",
    "for i in range(train.shape[0]):\n",
    "    train.loc[i,'Title'] = re.search(r\"(?<=,).*?(?=\\.)\",train.loc[i,'Name'])[0].strip()\n",
    "train['Title_1'] = le.fit_transform(train['Title'])\n",
    "# np.unique(np.array(Title))\n",
    "# Col = 陸軍上校\n",
    "# Don = Sir(Spanish)\n",
    "# Jonkheer = 鄉紳(紳士階級中較低的,男性尊稱)\n",
    "# Major = 少校\n",
    "# Master = 紳士\n",
    "# Mlle = 小姐(未婚)\n",
    "# Mme = Madame 太太 = Mrs\n",
    "# Rev = 牧師\n",
    "# the Countess = 伯爵夫人\n",
    "\n",
    "# family size\n",
    "train['Fam_size'] = train['SibSp'] + train['Parch']\n",
    "\n",
    "# Age Group\n",
    "train['Age_Group'] = np.floor_divide(train['Age'],10)"
   ]
  },
  {
   "cell_type": "code",
   "execution_count": null,
   "metadata": {},
   "outputs": [],
   "source": [
    "train3 = train.copy()\n",
    "train3withAge = train3[train3['Age_Group'].isnull() == False]\n",
    "train3NOAge = train3[train3['Age_Group'].isnull() == True]\n",
    "\n",
    "train3withAgetrain = train3withAge.iloc[:,[4,5,7]]\n",
    "train3withAgelabel = train3withAge.iloc[:,8]\n",
    "train3AgeSet, test3AgeSet, train3AgeLabel, test3AgeLabel = train_test_split(train3withAgetrain,train3withAgelabel,random_state = 10, test_size = 0.25)"
   ]
  },
  {
   "cell_type": "code",
   "execution_count": null,
   "metadata": {},
   "outputs": [],
   "source": [
    "GiniAcc3 = []\n",
    "for i in range(2,30):\n",
    "    GiniModel3 = DecisionTreeClassifier(min_samples_split =i)\n",
    "    GiniModel3.fit(train3AgeSet, train3AgeLabel)\n",
    "    GiniPred3 = GiniModel3.predict(test3AgeSet)\n",
    "    GiniAcc3.append([i,accuracy_score(y_true = test3AgeLabel, y_pred = GiniPred3)])\n",
    "\n",
    "GiniAcc3 = pd.DataFrame(GiniAcc3,columns=['num','acc'])\n",
    "GiniAcc3[GiniAcc3['acc'] == GiniAcc3['acc'].max()]"
   ]
  },
  {
   "cell_type": "code",
   "execution_count": null,
   "metadata": {},
   "outputs": [],
   "source": [
    "# fill in the missing Age\n",
    "# features: SibSp, Parch, Title_1\n",
    "Age_model = DecisionTreeClassifier(min_samples_split = 2)\n",
    "Age_model.fit(train3AgeSet, train3AgeLabel)\n",
    "Age_predict = Age_model.predict(train3NOAge.iloc[:,[4,5,7]])\n",
    "for i in range(train3.shape[0]):\n",
    "    if np.isnan(train3.loc[i,'Age_Group']) == True:\n",
    "        train3.loc[i,'Age_Group'] = Age_model.predict(train3.iloc[i,[4,5,7]].values.reshape(-1,3))"
   ]
  },
  {
   "cell_type": "code",
   "execution_count": null,
   "metadata": {},
   "outputs": [],
   "source": []
  },
  {
   "cell_type": "code",
   "execution_count": null,
   "metadata": {},
   "outputs": [],
   "source": [
    "# Test set\n",
    "\n",
    "# handling Sex\n",
    "test['Sex'] = le.fit_transform(test['Sex'])\n",
    "\n",
    "# handling Embarked\n",
    "test['Embarked'] = le.fit_transform(test['Embarked'])\n",
    "\n",
    "# handling Name with Title\n",
    "for i in range(test.shape[0]):\n",
    "    test.loc[i,'Title'] = re.search(r\"(?<=,).*?(?=\\.)\",test.loc[i,'Name'])[0].strip()\n",
    "test['Title_1'] = le.fit_transform(test['Title'])\n",
    "print(test['Title'].unique())\n",
    "\n",
    "# np.unique(np.array(Title))\n",
    "# Col = 陸軍上校\n",
    "# Don = Sir(Spanish)\n",
    "# Jonkheer = 鄉紳(紳士階級中較低的,男性尊稱)\n",
    "# Major = 少校\n",
    "# Master = 紳士\n",
    "# Mlle = 小姐(未婚)\n",
    "# Mme = Madame 太太 = Mrs\n",
    "# Rev = 牧師\n",
    "# the Countess = 伯爵夫人\n",
    "\n",
    "# family size\n",
    "test['Fam_size'] = test['SibSp'] + test['Parch']\n",
    "\n",
    "# Missing Age & convert to Age Group\n",
    "\n",
    "test['Age_Group'] = np.floor_divide(test['Age'],10)\n",
    "for i in range(test.shape[0]):\n",
    "    if np.isnan(test.loc[i,'Age_Group']) == True:\n",
    "        test.loc[i,'Age_Group'] = Age_model.predict(test.iloc[i,[5,6,12]].values.reshape(-1,3))           "
   ]
  },
  {
   "cell_type": "code",
   "execution_count": null,
   "metadata": {},
   "outputs": [],
   "source": [
    "trainSet, testSet, trainLabel, testLabel = train_test_split(train3.iloc[:,[2,3,6,7,8,9]],train3.iloc[:,1], random_state=10, test_size = 10)\n",
    "Test3 = []\n",
    "for i in range(2,30):\n",
    "    TestModel = DecisionTreeClassifier(min_samples_split =i)\n",
    "    TestModel.fit(trainSet, trainLabel)\n",
    "    TestPred = TestModel.predict(testSet)\n",
    "    Test3.append([i,accuracy_score(y_true = testLabel, y_pred = TestPred)])\n",
    "\n",
    "Test3 = pd.DataFrame(GiniAcc3,columns=['num','acc'])\n",
    "Test3[Test3['acc'] == Test3['acc'].max()]"
   ]
  },
  {
   "cell_type": "code",
   "execution_count": null,
   "metadata": {},
   "outputs": [],
   "source": [
    "Final3 = pd.DataFrame(columns = ['PassengerId','Survived'])\n",
    "Final3['PassengerId'] = test['PassengerId']\n",
    "Final3['Survived'] = Final_pred\n",
    "Final3.to_csv(r'C:\\Users\\sharon.pan\\Desktop\\python\\Project -\\Titanic\\result3.csv',index=False)"
   ]
  }
 ],
 "metadata": {
  "kernelspec": {
   "display_name": "Python 3",
   "language": "python",
   "name": "python3"
  },
  "language_info": {
   "codemirror_mode": {
    "name": "ipython",
    "version": 3
   },
   "file_extension": ".py",
   "mimetype": "text/x-python",
   "name": "python",
   "nbconvert_exporter": "python",
   "pygments_lexer": "ipython3",
   "version": "3.7.1"
  }
 },
 "nbformat": 4,
 "nbformat_minor": 2
}
